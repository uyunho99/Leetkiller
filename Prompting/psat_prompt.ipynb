{
 "cells": [
  {
   "cell_type": "code",
   "execution_count": 1,
   "metadata": {},
   "outputs": [],
   "source": [
    "import os\n",
    "import json\n",
    "\n",
    "psat_json_path = os.path.abspath(os.path.join(os.getcwd(), '..', 'PSAT/Data/2023_PSAT.json'))\n",
    "psat_json = json.load(open(psat_json_path))"
   ]
  },
  {
   "cell_type": "code",
   "execution_count": 2,
   "metadata": {},
   "outputs": [
    {
     "data": {
      "text/plain": [
       "{'id': '2023_PSAT_1',\n",
       " 'paragraph': '고려는 건국 직후, 송에 사신을 보내 우호 관계를 맺었다. 그러나 거란이 요를 세우고 송을 압박할 정도로 힘이 세지자 고려와 송 관계에 변화가 나타났다. 고려는 귀주대첩에서 요를 물리친 바 있지만, 날로 강해지는 요를 중시해야 한다는 판단에서 송과 관계를 끊고 요와 우호 관계를 맺었다. 이후 송의 신종은 요가 차지한 연운 16주 등을 되찾기 위해 요를 공격하려 했으며, 그에 필요한 물자를 고려에서 지원받고자 했다. 이에 신종은 고려에 사신을 보내 관계를 복원하자고 제안했다. 당시 고려 왕이었던 문종은 송의 문물에 관심이 컸기 때문에 그 기회를 이용해 송으로부터 다양한 문물을 들여와야겠다고 생각하고, 신종의 제안을 받아들였다.  고려가 관계를 회복하자는 요청에 응하자 신종은 기뻐하였다. 그는 고려 사신이 올 때마다 거액을 들여 환영회를 열고, 고려의 요청을 수용하여 유학생을 받아들였다. 이후 신종은 요를 공격할 때 필요한 물자를 보내 달라고 몇 차례 부탁했다. 하지만 고려는 송에서 서적 등을 들여오는 데에만 관심을 보일 뿐 물자를 보내 달라는 신종의 부탁을 받아들이지는 않았다.  이후 여진이 금을 세우고 요를 멸망시키는 일이 벌어졌다. 당시 송 휘종은 금을 도와 요를 없애는 데 일조했다. 그러나 금은 요를 없앤 후에 송까지 공격해 휘종을 잡아갔다. 분노한 송은 고려에 함께 금을 정벌하자고 제안했다. 이때 고려의 대신 김부식은 “휘종이 잡혀가던 해에 나는 사신으로 송에 가서 금 군대의 위력을 봤다.”라고 하면서 송의 요청을 받아들여서는 안 된다고 했으며, 국왕 인종도 그에 동의했다. 이후에도 송은 “묘청의 난을 진압하는 데 필요한 군대를 보내주겠으니 그 대가로 고려를 거쳐 금을 공격하게 해 달라.”라고 요청했다. 이에 인종은 “당신들이 고려를 통해 금을 공격하면 그들도 고려로 밀고 들어올 것이다. 그렇게 되면 귀국은 북쪽에서 밀려오는 금의 육군도 상대하고, 고려를 거쳐 귀국을 공격하는 금의 수군도 상대해야 하는 상황에 빠질 수 있다.”라며 거절했다. 이 말에 실망한 송은 1160년대부터 사신의 규모와 횟수를 줄이더니 1170년대 이후 사신을 보내지 않았다.',\n",
       " 'problems': [{'question': '1. 다음 글의 내용과 부합하는 것은?',\n",
       "   'choices': ['① 김부식은 금을 함께 공격하자는 송의 요청을 받아들여서는 안 된다고 하였다.',\n",
       "    '② 고려 인종은 묘청의 난을 진압하기 위하여 금에 군대를 파견해 달라고 요청하였다.',\n",
       "    '③ 요는 귀주대첩을 계기로 고려와 외교 관계를 끊고 송에 사신을 파견하기 시작하였다.',\n",
       "    '④ 송은 요를 공격하기 위해 고려에 군대를 보내 함선을 건조하기 위한 준비 작업에 들어갔다.',\n",
       "    '⑤ 송 신종은 요를 함께 쳐들어가자는 자신의 제안을 고려가 거부한 데 분노해 고려와의 외교 관계를 끊었다.']}]}"
      ]
     },
     "execution_count": 2,
     "metadata": {},
     "output_type": "execute_result"
    }
   ],
   "source": [
    "psat_json[0]"
   ]
  },
  {
   "cell_type": "code",
   "execution_count": 3,
   "metadata": {},
   "outputs": [],
   "source": [
    "basic_prompt = \"\"\"다음 지문을 읽고, 질문에 대한 답을 1부터 5까지 중에 한 개만 골라서 대답하시오.\n",
    "지문: {}\n",
    "질문: {}\n",
    "선택지: 1번: {}, 2번: {}, 3번: {}, 4번: {}, 5번: {}\n",
    "1번, 2번, 3번, 4번, 5번 중에서 한 개의 답을 고르시오. 정답:\n",
    "\"\"\"\n",
    "    \n",
    "basic_additional_prompt = \"\"\"다음 지문을 읽고, 질문에 대한 답을 1부터 5까지 중에 한 개만 골라서 대답하시오.\n",
    "지문: {}\n",
    "질문: {}\n",
    "보기: {}\n",
    "선택지: 1번: {}, 2번: {}, 3번: {}, 4번: {}, 5번: {}\n",
    "1번, 2번, 3번, 4번, 5번 중에서 한 개의 답을 고르시오. 정답:\n",
    "\"\"\""
   ]
  },
  {
   "cell_type": "code",
   "execution_count": 5,
   "metadata": {},
   "outputs": [],
   "source": [
    "def get_prompt(question, additional=False):\n",
    "    # Assuming there's only one problem per paragraph for simplification\n",
    "    problem = question['problems'][0]\n",
    "    \n",
    "    if 'additinonal' in problem.keys():\n",
    "        additional = True\n",
    "    \n",
    "    if additional:\n",
    "        return basic_additional_prompt.format(question['paragraph'], \n",
    "                                              problem['question'], \n",
    "                                              problem['additional'], \n",
    "                                              problem['choices'][0], \n",
    "                                              problem['choices'][1],\n",
    "                                              problem['choices'][2],\n",
    "                                              problem['choices'][3],\n",
    "                                              problem['choices'][4])\n",
    "    else:\n",
    "        return basic_prompt.format(question['paragraph'], \n",
    "                                   problem['question'], \n",
    "                                   problem['choices'][0], \n",
    "                                   problem['choices'][1],\n",
    "                                   problem['choices'][2],\n",
    "                                   problem['choices'][3],\n",
    "                                   problem['choices'][4])"
   ]
  },
  {
   "cell_type": "code",
   "execution_count": 6,
   "metadata": {},
   "outputs": [],
   "source": [
    "basic_prompt_input = [get_prompt(question) for question in psat_json]"
   ]
  },
  {
   "cell_type": "code",
   "execution_count": 11,
   "metadata": {},
   "outputs": [
    {
     "name": "stdout",
     "output_type": "stream",
     "text": [
      "다음 지문을 읽고, 질문에 대한 답을 1부터 5까지 중에 한 개만 골라서 대답하시오. \n",
      "지문: \"\"\"△△부에서는 국가 간 정책 교류를 위해 사무관 A～E 중 UN에 파견할 사무관을 선정하기로 했다. 파견 여부를 정하기 위해 다음의 기준을 세웠다.○A를 파견하면 B를 파견한다.○B를 파견하면 D를 파견하지 않는다.○C를 파견하면 E를 파견하지 않는다.○D를 파견하지 않으면 C를 파견한다.○E를 파견하지 않으면 D를 파견한다.  위의 기준으로는 사무관 세 명의 파견 여부가 확정되지만 두 명의 파견 여부는 확정되지 않는다. 하지만 “ ”를 기준으로 추가하면, 모든 사무관의 파견 여부를 확정할 수 있다.\"\"\"\n",
      "질문: \"\"\"15. 다음 글의 빈칸에 들어갈 내용으로 적절하지 않은 것은?\"\"\"\n",
      "선택지: 1번: ① A를 파견하 지 않으면 C를 파견한다., 2번: ② B를 파견하 지 않으면 C를 파견한다., 3번: ③ C를 파견하 지 않으면 D를 파견하 지 않는다., 4번: ④ C를 파견하 지 않으면 E를 파견하 지 않는다., 5번: ⑤ D나 E를 파견하 면 C를 파견한다.\n",
      "1번, 2번, 3번, 4번, 5번 중에서 한 개의 답을 고르시오. 정답:\n",
      "\n"
     ]
    }
   ],
   "source": [
    "print(basic_prompt_input[14])"
   ]
  }
 ],
 "metadata": {
  "kernelspec": {
   "display_name": "nlp",
   "language": "python",
   "name": "python3"
  },
  "language_info": {
   "codemirror_mode": {
    "name": "ipython",
    "version": 3
   },
   "file_extension": ".py",
   "mimetype": "text/x-python",
   "name": "python",
   "nbconvert_exporter": "python",
   "pygments_lexer": "ipython3",
   "version": "3.8.16"
  },
  "orig_nbformat": 4
 },
 "nbformat": 4,
 "nbformat_minor": 2
}
